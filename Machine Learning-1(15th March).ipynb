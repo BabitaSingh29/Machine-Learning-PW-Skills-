{
 "cells": [
  {
   "cell_type": "markdown",
   "id": "4f46ffc7-d483-4e16-8ff3-131c31e0aa59",
   "metadata": {},
   "source": [
    "## Q1- Explain the following with an example:\n",
    "### (i) Artificial Intelligence\n",
    "### (ii) Machine Learning\n",
    "### (iii)  Deep Learning"
   ]
  },
  {
   "cell_type": "markdown",
   "id": "5a61b3aa-b021-4ada-ab8b-4e9c4dc738d5",
   "metadata": {},
   "source": [
    "Artificial Intelligence (AI) is the ability of a machine to perform tasks that would typically require human intelligence, such as speech recognition and decision-making. For example, AI-powered virtual assistants like Siri and Alexa can understand natural language and perform tasks like setting reminders, making phone calls, and playing music.\n",
    "\n",
    "Machine Learning (ML) is a subset of AI that involves training a machine to learn from data and make predictions or decisions without being explicitly programmed. An example of machine learning is a spam filter that learns to identify and block unwanted emails based on user feedback.\n",
    "\n",
    "Deep Learning is a subset of machine learning that uses artificial neural networks to model and solve complex problems. A notable example of deep learning is image recognition, where a deep neural network can accurately classify images based on their content, enabling applications like self-driving cars and medical diagnosis."
   ]
  },
  {
   "cell_type": "markdown",
   "id": "da6e6151-b481-4ff6-9236-2ced16ff756d",
   "metadata": {},
   "source": [
    "## Q2- What is supervised learning? List some examples of supervised learning."
   ]
  },
  {
   "cell_type": "markdown",
   "id": "a5bc22a7-5beb-4ca5-b22d-db6c57d15fed",
   "metadata": {},
   "source": [
    "Supervised learning is a type of machine learning where a model is trained on a labeled dataset, meaning that the data has input features and corresponding output labels. The goal of supervised learning is to learn a mapping function from input to output that can be used to make predictions on new, unseen data. In other words, the model is trained to predict the output given the input.\n",
    "\n",
    "Examples of supervised learning include:\n",
    "\n",
    "(i) Image classification: Given an image, predict the category it belongs to (e.g. cat or dog).\n",
    "(ii) Speech recognition: Given an audio clip, transcribe it into text.\n",
    "(iii) Sentiment analysis: Given a text input, classify it as positive, negative, or neutral.\n",
    "(iv) Regression analysis: Given numerical input data, predict a continuous numerical output value, such as the          price of a house based on its features.\n",
    "(v) Fraud detection: Given information about a transaction, predict whether it is likely to be fraudulent or not."
   ]
  },
  {
   "cell_type": "markdown",
   "id": "b1ab95a6-c731-4e1d-8933-c1e4f3c391dc",
   "metadata": {},
   "source": [
    "## Q3- What is unsupervised learning? List some exmples of unsupervised learning."
   ]
  },
  {
   "cell_type": "markdown",
   "id": "e55393ec-fd7c-4b24-a5d4-fc065ccb0732",
   "metadata": {},
   "source": [
    "Unsupervised learning is a type of machine learning where the model is trained on an unlabeled dataset, meaning that the data has no corresponding output labels. The goal of unsupervised learning is to discover patterns or relationships in the data without being explicitly told what to look for. In other words, the model is left to its own devices to find structure in the data.\n",
    "\n",
    "Examples of unsupervised learning include:\n",
    "\n",
    "Clustering: Grouping together similar data points based on their attributes. This can be used for customer segmentation, image segmentation, and more.\n",
    "Dimensionality reduction: Reducing the number of features in a dataset while retaining as much of the original information as possible. This can be used for data compression, visualization, and feature engineering.\n",
    "Anomaly detection: Identifying data points that are significantly different from the rest of the data. This can be used for fraud detection, network intrusion detection, and more."
   ]
  },
  {
   "cell_type": "markdown",
   "id": "f4abb8be-465a-4b3d-98b9-056c18043787",
   "metadata": {},
   "source": [
    "## Q4- What is the difference between AI, ML, DL, and DS?"
   ]
  },
  {
   "cell_type": "markdown",
   "id": "8e470450-28fb-4059-91a9-2eea98e7e369",
   "metadata": {},
   "source": [
    "AI is the broadest term that encompasses the ability of a machine to perform tasks that would typically require human intelligence. ML is a subset of AI that involves training a machine to learn from data. DL is a subset of ML that uses artificial neural networks to solve complex problems. DS, or Data Science, is a field that encompasses the use of statistical and computational techniques to extract insights and knowledge from data."
   ]
  },
  {
   "cell_type": "markdown",
   "id": "aa4272d6-8cf8-4111-b137-c083f88b269b",
   "metadata": {},
   "source": [
    "## Q5- What are the main differnces between supervised, unsupervised, and semi-supervised learning?"
   ]
  },
  {
   "cell_type": "markdown",
   "id": "c9a1a473-ebc1-4842-9dba-806656df21e3",
   "metadata": {},
   "source": [
    "The main differences between supervised, unsupervised, and semi-supervised learning are:\n",
    "\n",
    "(i) Supervised learning:\n",
    "\n",
    "Uses labeled data, where each input has a corresponding output label\n",
    "The goal is to learn a mapping function from input to output that can be used to make predictions on new, unseen data\n",
    "Examples include image classification, sentiment analysis, and regression analysis\n",
    "\n",
    "(ii) Unsupervised learning:\n",
    "\n",
    "Uses unlabeled data, where there are no corresponding output labels\n",
    "The goal is to discover patterns or relationships in the data without being explicitly told what to look for\n",
    "Examples include clustering, dimensionality reduction, and anomaly detection\n",
    "\n",
    "(iii) Semi-supervised learning:\n",
    "\n",
    "Uses a combination of labeled and unlabeled data\n",
    "The goal is to improve the performance of a supervised learning model by using unlabeled data to improve its ability to generalize to new, unseen data\n",
    "Examples include speech recognition, natural language processing, and image classification"
   ]
  },
  {
   "cell_type": "markdown",
   "id": "328dca6f-0970-4b06-9032-b7e83b11028c",
   "metadata": {},
   "source": [
    "## Q6- What is train, test and validation split? Explain the importance of each term."
   ]
  },
  {
   "cell_type": "markdown",
   "id": "0072956b-7867-4e72-bb82-ac3909878454",
   "metadata": {},
   "source": [
    "Train, test, and validation split is a common practice in machine learning where the dataset is divided into three parts: a training set, a validation set, and a test set. The training set is used to train the model, the validation set is used to tune model parameters and avoid overfitting, and the test set is used to evaluate the model's performance on new, unseen data.\n",
    "\n",
    "The importance of each term is as follows:\n",
    "(i) Train: Used to train the model and adjust its parameters.\n",
    "(ii) Validation: Used to evaluate the performance of the model during training and make adjustments to prevent          overfitting. \n",
    "(iii) Test: Used to evaluate the final performance of the model on new, unseen data and ensure that it can generalize well to real-world scenarios."
   ]
  },
  {
   "cell_type": "markdown",
   "id": "af9f9c67-2b18-47fa-9673-b3c7ee32ba65",
   "metadata": {},
   "source": [
    "## Q7- How can unsupervised learing be used in anomaly detection?"
   ]
  },
  {
   "cell_type": "markdown",
   "id": "39b3ff0e-5ac2-4c03-8820-54406659f519",
   "metadata": {},
   "source": [
    "Unsupervised learning can be used in anomaly detection by training the model on normal data and identifying data points that are significantly different from the rest of the data. Clustering and dimensionality reduction techniques can also be used to identify anomalies in the data based on their deviation from normal patterns or relationships."
   ]
  },
  {
   "cell_type": "markdown",
   "id": "cc64d768-48e3-4a6e-8306-7a611bba39ba",
   "metadata": {},
   "source": [
    "## Q8- List down some commonly used supervised learning algorithms and unsupervised learning algorithms."
   ]
  },
  {
   "cell_type": "markdown",
   "id": "8af52e78-c062-4f57-8748-f0b3206b7fd4",
   "metadata": {},
   "source": [
    "Here are some commonly used supervised learning algorithms:\n",
    "(i) Linear regression\n",
    "(ii) Logistic regression\n",
    "(iii) Decision trees\n",
    "(iv) Random forests\n",
    "(v) Support vector machines (SVM)\n",
    "(vi) K-nearest neighbors (KNN)\n",
    "(vii) Naive Bayes\n",
    "(viii) Neural networks\n",
    "\n",
    "Here are some commonly used unsupervised learning algorithms:\n",
    "(i) K-means clustering\n",
    "(ii) Hierarchical clustering\n",
    "(iii) Principal component analysis (PCA)\n",
    "(iv) t-SNE (t-distributed stochastic neighbor embedding)\n",
    "(v) DBSCAN (density-based spatial clustering of applications with noise)\n",
    "(vi) Isolation Forest\n",
    "(vii) Autoencoders\n",
    "(viii) Generative Adversarial Networks (GANs)"
   ]
  }
 ],
 "metadata": {
  "kernelspec": {
   "display_name": "Python 3 (ipykernel)",
   "language": "python",
   "name": "python3"
  },
  "language_info": {
   "codemirror_mode": {
    "name": "ipython",
    "version": 3
   },
   "file_extension": ".py",
   "mimetype": "text/x-python",
   "name": "python",
   "nbconvert_exporter": "python",
   "pygments_lexer": "ipython3",
   "version": "3.10.8"
  }
 },
 "nbformat": 4,
 "nbformat_minor": 5
}
